{
 "cells": [
  {
   "cell_type": "code",
   "execution_count": null,
   "metadata": {},
   "outputs": [],
   "source": [
    "from google.colab import drive\n",
    "drive.mount('/content/drive', force_remount=True)\n",
    "import os\n",
    "import sys\n",
    "MY_DRIVE_PATH = '/content/drive/MyDrive/Technion/Diffusion-AD-Project/'\n",
    "sys.path.append(MY_DRIVE_PATH)\n",
    "os.chdir(MY_DRIVE_PATH)"
   ]
  },
  {
   "cell_type": "code",
   "execution_count": null,
   "metadata": {},
   "outputs": [],
   "source": [
    "!pip install blobfile\n",
    "!pip install mpi4py"
   ]
  }
 ],
 "metadata": {
  "kernelspec": {
   "display_name": "cs236781-hw",
   "language": "python",
   "name": "python3"
  },
  "language_info": {
   "name": "python",
   "version": "3.8.12 | packaged by conda-forge | (default, Oct 12 2021, 21:22:46) [MSC v.1916 64 bit (AMD64)]"
  },
  "orig_nbformat": 4,
  "vscode": {
   "interpreter": {
    "hash": "2d6177135b5998e809eb021904ab35f48dd2efa1bd328827b538ee5401b6f955"
   }
  }
 },
 "nbformat": 4,
 "nbformat_minor": 2
}
